{
 "cells": [
  {
   "cell_type": "code",
   "execution_count": 8,
   "id": "230a39aa",
   "metadata": {},
   "outputs": [],
   "source": [
    "#import os to interact with os\n",
    "import os\n",
    "import numpy as np\n",
    "#PIL(python imaging liberary which provides tools for working with images in Python.)\n",
    "from PIL import Image\n",
    "#imports train test split function from sklearn liberary\n",
    "from sklearn.model_selection import train_test_split\n",
    "#imported raandom forest algorithm from sklearn\n",
    "from sklearn.ensemble import RandomForestClassifier\n"
   ]
  },
  {
   "cell_type": "code",
   "execution_count": 9,
   "id": "f744b618",
   "metadata": {},
   "outputs": [],
   "source": [
    "# Define the path to your image data folders\n",
    "data_dir = 'E:/MIT/Sem-2/Mini Project grape leaves disease classification/data set/Grape'\n"
   ]
  },
  {
   "cell_type": "code",
   "execution_count": 10,
   "id": "a88c8af7",
   "metadata": {},
   "outputs": [],
   "source": [
    "# Define the target labels and corresponding folders\n",
    "labels = ['Grape___Black_rot', 'Grape___Esca_(Black_Measles)', 'Grape___healthy','Grape___Leaf_blight_(Isariopsis_Leaf_Spot)','yelllow']\n",
    "folders =['Grape___Black_rot', 'Grape___Esca_(Black_Measles)', 'Grape___healthy','Grape___Leaf_blight_(Isariopsis_Leaf_Spot)','yelllow']\n",
    "\n"
   ]
  },
  {
   "cell_type": "code",
   "execution_count": 11,
   "id": "faa389f2",
   "metadata": {},
   "outputs": [],
   "source": [
    "# Load the image data and corresponding labels\n",
    "data = []\n",
    "#to store the image data\n",
    "target = []\n",
    "# to store target variables ie labels\n",
    "for i, folder in enumerate(folders):\n",
    "    folder_path = os.path.join(data_dir, folder)\n",
    "    for file in os.listdir(folder_path):\n",
    "        image_path = os.path.join(folder_path, file)\n",
    "        image = Image.open(image_path)\n",
    "        data.append(np.array(image).flatten())\n",
    "        target.append(i)"
   ]
  },
  {
   "cell_type": "code",
   "execution_count": 12,
   "id": "d067709b",
   "metadata": {},
   "outputs": [],
   "source": [
    "# Split the data into training and testing sets\n",
    "X_train, X_test, y_train, y_test = train_test_split(data, target, test_size=0.2, random_state=42)\n"
   ]
  },
  {
   "cell_type": "code",
   "execution_count": 13,
   "id": "e05651ed",
   "metadata": {},
   "outputs": [],
   "source": [
    "# Define the Random Forest classifier with 100 trees\n",
    "rf = RandomForestClassifier(n_estimators=200,random_state=42)"
   ]
  },
  {
   "cell_type": "code",
   "execution_count": 14,
   "id": "9cf99f3a",
   "metadata": {},
   "outputs": [
    {
     "data": {
      "text/plain": [
       "RandomForestClassifier(n_estimators=200, random_state=42)"
      ]
     },
     "execution_count": 14,
     "metadata": {},
     "output_type": "execute_result"
    }
   ],
   "source": [
    "# Fit the classifier to the training data\n",
    "rf.fit(X_train, y_train)\n"
   ]
  },
  {
   "cell_type": "code",
   "execution_count": 15,
   "id": "0a48d1b9",
   "metadata": {},
   "outputs": [
    {
     "name": "stdout",
     "output_type": "stream",
     "text": [
      "Accuracy: 81.98%\n"
     ]
    }
   ],
   "source": [
    "# Evaluate the classifier on the testing data\n",
    "accuracy = rf.score(X_test, y_test)\n",
    "print(\"Accuracy: {:.2f}%\".format(accuracy * 100))"
   ]
  },
  {
   "cell_type": "code",
   "execution_count": 16,
   "id": "b36da129",
   "metadata": {},
   "outputs": [],
   "source": [
    "import os\n",
    "import numpy as np\n",
    "from PIL import Image\n"
   ]
  },
  {
   "cell_type": "code",
   "execution_count": 17,
   "id": "27ffb369",
   "metadata": {},
   "outputs": [],
   "source": [
    "# Define the path to the image you want to predict\n",
    "image_path = \"E:/MIT/Sem-2/Mini Project grape leaves disease classification ata set/Grape/Grape___Esca_(Black_Measles)/0c0064e9-f2f4-4264-95a2-58e6e795d1a7___FAM_B.Msls 1328.JPG\""
   ]
  },
  {
   "cell_type": "code",
   "execution_count": 18,
   "id": "60b14024",
   "metadata": {},
   "outputs": [
    {
     "ename": "FileNotFoundError",
     "evalue": "[Errno 2] No such file or directory: 'E:/MIT/Sem-2/Mini Project/data set/Grape/Grape___Black_rot/0c7369b1-b8f1-4287-8875-fef5f1a5b3ac___FAM_B.Rot 3156.JPG'",
     "output_type": "error",
     "traceback": [
      "\u001b[1;31m---------------------------------------------------------------------------\u001b[0m",
      "\u001b[1;31mFileNotFoundError\u001b[0m                         Traceback (most recent call last)",
      "\u001b[1;32m~\\AppData\\Local\\Temp/ipykernel_6028/3562814573.py\u001b[0m in \u001b[0;36m<module>\u001b[1;34m\u001b[0m\n\u001b[0;32m      1\u001b[0m \u001b[1;31m# Load the image and flatten it\u001b[0m\u001b[1;33m\u001b[0m\u001b[1;33m\u001b[0m\u001b[0m\n\u001b[1;32m----> 2\u001b[1;33m \u001b[0mimage\u001b[0m \u001b[1;33m=\u001b[0m \u001b[0mImage\u001b[0m\u001b[1;33m.\u001b[0m\u001b[0mopen\u001b[0m\u001b[1;33m(\u001b[0m\u001b[0mimage_path\u001b[0m\u001b[1;33m)\u001b[0m\u001b[1;33m\u001b[0m\u001b[1;33m\u001b[0m\u001b[0m\n\u001b[0m\u001b[0;32m      3\u001b[0m \u001b[0mimage_data\u001b[0m \u001b[1;33m=\u001b[0m \u001b[0mnp\u001b[0m\u001b[1;33m.\u001b[0m\u001b[0marray\u001b[0m\u001b[1;33m(\u001b[0m\u001b[0mimage\u001b[0m\u001b[1;33m)\u001b[0m\u001b[1;33m.\u001b[0m\u001b[0mflatten\u001b[0m\u001b[1;33m(\u001b[0m\u001b[1;33m)\u001b[0m\u001b[1;33m\u001b[0m\u001b[1;33m\u001b[0m\u001b[0m\n",
      "\u001b[1;32mE:\\anaconda3E\\anaconda3\\lib\\site-packages\\PIL\\Image.py\u001b[0m in \u001b[0;36mopen\u001b[1;34m(fp, mode, formats)\u001b[0m\n\u001b[0;32m   2973\u001b[0m \u001b[1;33m\u001b[0m\u001b[0m\n\u001b[0;32m   2974\u001b[0m     \u001b[1;32mif\u001b[0m \u001b[0mfilename\u001b[0m\u001b[1;33m:\u001b[0m\u001b[1;33m\u001b[0m\u001b[1;33m\u001b[0m\u001b[0m\n\u001b[1;32m-> 2975\u001b[1;33m         \u001b[0mfp\u001b[0m \u001b[1;33m=\u001b[0m \u001b[0mbuiltins\u001b[0m\u001b[1;33m.\u001b[0m\u001b[0mopen\u001b[0m\u001b[1;33m(\u001b[0m\u001b[0mfilename\u001b[0m\u001b[1;33m,\u001b[0m \u001b[1;34m\"rb\"\u001b[0m\u001b[1;33m)\u001b[0m\u001b[1;33m\u001b[0m\u001b[1;33m\u001b[0m\u001b[0m\n\u001b[0m\u001b[0;32m   2976\u001b[0m         \u001b[0mexclusive_fp\u001b[0m \u001b[1;33m=\u001b[0m \u001b[1;32mTrue\u001b[0m\u001b[1;33m\u001b[0m\u001b[1;33m\u001b[0m\u001b[0m\n\u001b[0;32m   2977\u001b[0m \u001b[1;33m\u001b[0m\u001b[0m\n",
      "\u001b[1;31mFileNotFoundError\u001b[0m: [Errno 2] No such file or directory: 'E:/MIT/Sem-2/Mini Project/data set/Grape/Grape___Black_rot/0c7369b1-b8f1-4287-8875-fef5f1a5b3ac___FAM_B.Rot 3156.JPG'"
     ]
    }
   ],
   "source": [
    "# Load the image and flatten it\n",
    "image = Image.open(image_path)\n",
    "image_data = np.array(image).flatten()"
   ]
  },
  {
   "cell_type": "code",
   "execution_count": null,
   "id": "36f0c66e",
   "metadata": {},
   "outputs": [],
   "source": [
    " # Make a prediction on the image data using the trained Random Forest classifier\n",
    "prediction = rf.predict([image_data])"
   ]
  },
  {
   "cell_type": "code",
   "execution_count": null,
   "id": "361a482c",
   "metadata": {},
   "outputs": [],
   "source": [
    "# Print the predicted and actual labels\n",
    "predicted_label = labels[prediction[0]]\n",
    "print(\"Predicted label:\", predicted_label)\n",
    "actual_label = os.path.basename(os.path.dirname(image_path))\n",
    "print(\"Actual label:\", actual_label)"
   ]
  },
  {
   "cell_type": "code",
   "execution_count": null,
   "id": "8fc8a8dd",
   "metadata": {},
   "outputs": [],
   "source": []
  },
  {
   "cell_type": "code",
   "execution_count": null,
   "id": "87615eb0",
   "metadata": {},
   "outputs": [],
   "source": []
  },
  {
   "cell_type": "code",
   "execution_count": null,
   "id": "e0fbaff9",
   "metadata": {},
   "outputs": [],
   "source": []
  }
 ],
 "metadata": {
  "kernelspec": {
   "display_name": "Python 3 (ipykernel)",
   "language": "python",
   "name": "python3"
  },
  "language_info": {
   "codemirror_mode": {
    "name": "ipython",
    "version": 3
   },
   "file_extension": ".py",
   "mimetype": "text/x-python",
   "name": "python",
   "nbconvert_exporter": "python",
   "pygments_lexer": "ipython3",
   "version": "3.9.7"
  }
 },
 "nbformat": 4,
 "nbformat_minor": 5
}
