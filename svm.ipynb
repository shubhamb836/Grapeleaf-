{
 "cells": [
  {
   "cell_type": "code",
   "execution_count": 4,
   "id": "ab519d54",
   "metadata": {},
   "outputs": [],
   "source": [
    "# Import necessary libraries\n",
    "import numpy as np\n",
    "import pandas as pd\n",
    "import os\n",
    "import cv2\n",
    "from sklearn.model_selection import train_test_split\n",
    "from sklearn.svm import SVC\n",
    "from sklearn.metrics import accuracy_score"
   ]
  },
  {
   "cell_type": "code",
   "execution_count": 5,
   "id": "30fc52de",
   "metadata": {},
   "outputs": [],
   "source": [
    "# Define the path where your images are stored\n",
    "data_path = data_dir = 'E:/MIT/Sem-2/Mini Project grape leaves disease classification/data set/Grape'\n",
    "\n",
    "# Define the different diseases folders\n",
    "disease_folders = [\"Grape___Black_rot\", \"Grape___Esca_(Black_Measles)\", \"Grape___healthy\", \"Grape___Leaf_blight_(Isariopsis_Leaf_Spot)\", \"yelllow\"]\n"
   ]
  },
  {
   "cell_type": "code",
   "execution_count": 6,
   "id": "c076e6bf",
   "metadata": {},
   "outputs": [],
   "source": [
    "X = []\n",
    "y = []\n",
    "for idx, folder in enumerate(disease_folders):\n",
    "    folder_path = os.path.join(data_path, folder)\n",
    "    for filename in os.listdir(folder_path):\n",
    "        img_path = os.path.join(folder_path, filename)\n",
    "        img = cv2.imread(img_path)\n",
    "        img = cv2.resize(img, (256, 256)) # Resize the image to a fixed size\n",
    "        X.append(img)\n",
    "        y.append(idx)"
   ]
  },
  {
   "cell_type": "code",
   "execution_count": 7,
   "id": "9e4052e7",
   "metadata": {},
   "outputs": [],
   "source": [
    "# Convert to numpy arrays\n",
    "X = np.array(X)\n",
    "y = np.array(y)"
   ]
  },
  {
   "cell_type": "code",
   "execution_count": 8,
   "id": "0719b3f8",
   "metadata": {},
   "outputs": [],
   "source": [
    "# Split data into training and testing sets\n",
    "X_train, X_test, y_train, y_test = train_test_split(X, y, test_size=0.2, random_state=42)\n"
   ]
  },
  {
   "cell_type": "code",
   "execution_count": 9,
   "id": "643b2e3a",
   "metadata": {},
   "outputs": [],
   "source": [
    "# Flatten the images\n",
    "X_train = X_train.reshape(X_train.shape[0], -1)\n",
    "X_test = X_test.reshape(X_test.shape[0], -1)"
   ]
  },
  {
   "cell_type": "code",
   "execution_count": 10,
   "id": "ddae24be",
   "metadata": {},
   "outputs": [],
   "source": [
    "# Define the SVM model\n",
    "svm = SVC(kernel='linear')\n"
   ]
  },
  {
   "cell_type": "code",
   "execution_count": 11,
   "id": "cffb8e76",
   "metadata": {},
   "outputs": [
    {
     "data": {
      "text/plain": [
       "SVC(kernel='linear')"
      ]
     },
     "execution_count": 11,
     "metadata": {},
     "output_type": "execute_result"
    }
   ],
   "source": [
    "# Train the model\n",
    "svm.fit(X_train, y_train)\n"
   ]
  },
  {
   "cell_type": "code",
   "execution_count": 12,
   "id": "458b4d83",
   "metadata": {},
   "outputs": [],
   "source": [
    "# Make predictions on the test set\n",
    "y_pred = svm.predict(X_test)"
   ]
  },
  {
   "cell_type": "code",
   "execution_count": 16,
   "id": "1cc9fee7",
   "metadata": {},
   "outputs": [
    {
     "name": "stdout",
     "output_type": "stream",
     "text": [
      "Accuracy:  0.8960915157292659\n",
      "Accuracy: 89.61%\n"
     ]
    }
   ],
   "source": [
    "# Calculate the accuracy\n",
    "accuracy = accuracy_score(y_test, y_pred)\n",
    "print(\"Accuracy: {:.2f}%\".format(accuracy * 100))"
   ]
  },
  {
   "cell_type": "markdown",
   "id": "d008d403",
   "metadata": {},
   "source": [
    "# preditions"
   ]
  },
  {
   "cell_type": "code",
   "execution_count": 14,
   "id": "942cba8c",
   "metadata": {},
   "outputs": [],
   "source": [
    "# Define the path to the image you want to predict\n",
    "image_path = \"E:/MIT/Sem-2/Mini Project grape leaves disease classificatio/data set/Grape/Grape___Esca_(Black_Measles)/0c0064e9-f2f4-4264-95a2-58e6e795d1a7___FAM_B.Msls 1328.JPG\""
   ]
  },
  {
   "cell_type": "code",
   "execution_count": 15,
   "id": "d42ad428",
   "metadata": {},
   "outputs": [
    {
     "ename": "NameError",
     "evalue": "name 'Image' is not defined",
     "output_type": "error",
     "traceback": [
      "\u001b[1;31m---------------------------------------------------------------------------\u001b[0m",
      "\u001b[1;31mNameError\u001b[0m                                 Traceback (most recent call last)",
      "\u001b[1;32m~\\AppData\\Local\\Temp/ipykernel_11408/3562814573.py\u001b[0m in \u001b[0;36m<module>\u001b[1;34m\u001b[0m\n\u001b[0;32m      1\u001b[0m \u001b[1;31m# Load the image and flatten it\u001b[0m\u001b[1;33m\u001b[0m\u001b[1;33m\u001b[0m\u001b[0m\n\u001b[1;32m----> 2\u001b[1;33m \u001b[0mimage\u001b[0m \u001b[1;33m=\u001b[0m \u001b[0mImage\u001b[0m\u001b[1;33m.\u001b[0m\u001b[0mopen\u001b[0m\u001b[1;33m(\u001b[0m\u001b[0mimage_path\u001b[0m\u001b[1;33m)\u001b[0m\u001b[1;33m\u001b[0m\u001b[1;33m\u001b[0m\u001b[0m\n\u001b[0m\u001b[0;32m      3\u001b[0m \u001b[0mimage_data\u001b[0m \u001b[1;33m=\u001b[0m \u001b[0mnp\u001b[0m\u001b[1;33m.\u001b[0m\u001b[0marray\u001b[0m\u001b[1;33m(\u001b[0m\u001b[0mimage\u001b[0m\u001b[1;33m)\u001b[0m\u001b[1;33m.\u001b[0m\u001b[0mflatten\u001b[0m\u001b[1;33m(\u001b[0m\u001b[1;33m)\u001b[0m\u001b[1;33m\u001b[0m\u001b[1;33m\u001b[0m\u001b[0m\n",
      "\u001b[1;31mNameError\u001b[0m: name 'Image' is not defined"
     ]
    }
   ],
   "source": [
    "# Load the image and flatten it\n",
    "image = Image.open(image_path)\n",
    "image_data = np.array(image).flatten()"
   ]
  },
  {
   "cell_type": "code",
   "execution_count": null,
   "id": "fe4e698f",
   "metadata": {},
   "outputs": [],
   "source": [
    "# Make a prediction on the image data using the trained Random Forest classifier\n",
    "prediction = rf.predict([image_data])"
   ]
  },
  {
   "cell_type": "code",
   "execution_count": null,
   "id": "0f8be13e",
   "metadata": {},
   "outputs": [],
   "source": [
    "# Print the predicted and actual labels\n",
    "predicted_label = labels[prediction[0]]\n",
    "print(\"Predicted label:\", predicted_label)\n",
    "actual_label = os.path.basename(os.path.dirname(image_path))\n",
    "print(\"Actual label:\", actual_label)"
   ]
  },
  {
   "cell_type": "code",
   "execution_count": null,
   "id": "0f9defbe",
   "metadata": {},
   "outputs": [],
   "source": []
  }
 ],
 "metadata": {
  "kernelspec": {
   "display_name": "Python 3 (ipykernel)",
   "language": "python",
   "name": "python3"
  },
  "language_info": {
   "codemirror_mode": {
    "name": "ipython",
    "version": 3
   },
   "file_extension": ".py",
   "mimetype": "text/x-python",
   "name": "python",
   "nbconvert_exporter": "python",
   "pygments_lexer": "ipython3",
   "version": "3.9.7"
  }
 },
 "nbformat": 4,
 "nbformat_minor": 5
}
