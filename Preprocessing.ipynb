{
 "cells": [
  {
   "cell_type": "code",
   "execution_count": 15,
   "id": "42b1c3c5",
   "metadata": {},
   "outputs": [],
   "source": [
    "#for yellow leaves/sunlight deficiency\n",
    "from PIL import Image\n",
    "import os\n",
    "\n",
    "# specify the directory containing the JPEG images\n",
    "jpeg_dir = 'E:/MIT/Sem-2/Mini Project/data set/folder'\n",
    "\n",
    "# create a directory for the JPEG converted images\n",
    "if not os.path.exists('jpg_images'):\n",
    "    os.makedirs('converted_images')\n",
    "\n",
    "# loop through all the JPEG images in the directory\n",
    "for filename in os.listdir(jpeg_dir):\n",
    "    if filename.endswith('.jpeg') or filename.endswith('.jpg'):\n",
    "        # open the image\n",
    "        image = Image.open(os.path.join(jpeg_dir, filename))\n",
    "        # convert the image to JPEG format and resize to 256x256 dimensions\n",
    "        image = image.convert('RGB').resize((256, 256))\n",
    "        # save the image in the jpg_images directory\n",
    "        new_filename = os.path.splitext(filename)[0] + '.jpeg'\n",
    "        image.save(os.path.join('converted_images', new_filename))\n"
   ]
  },
  {
   "cell_type": "code",
   "execution_count": 17,
   "id": "dcb2451b",
   "metadata": {},
   "outputs": [],
   "source": [
    "#for healthy leaves\n",
    "from PIL import Image\n",
    "import os\n",
    "\n",
    "# specify the directory containing the JPEG images\n",
    "jpeg_dir = 'E:/MIT/Sem-2/Mini Project/data set/healthy'\n",
    "\n",
    "# create a directory for the JPEG converted images\n",
    "if not os.path.exists('jpg_images'):\n",
    "    os.makedirs('healthy_converted_images')\n",
    "\n",
    "# loop through all the JPEG images in the directory\n",
    "for filename in os.listdir(jpeg_dir):\n",
    "    if filename.endswith('.jpeg') or filename.endswith('.jpg'):\n",
    "        # open the image\n",
    "        image = Image.open(os.path.join(jpeg_dir, filename))\n",
    "        # convert the image to JPEG format and resize to 256x256 dimensions\n",
    "        image = image.convert('RGB').resize((256, 256))\n",
    "        # save the image in the jpg_images directory\n",
    "        new_filename = os.path.splitext(filename)[0] + '.jpeg'\n",
    "        image.save(os.path.join('healthy_converted_images', new_filename))\n"
   ]
  },
  {
   "cell_type": "code",
   "execution_count": null,
   "id": "157cc70f",
   "metadata": {},
   "outputs": [],
   "source": []
  }
 ],
 "metadata": {
  "kernelspec": {
   "display_name": "Python 3 (ipykernel)",
   "language": "python",
   "name": "python3"
  },
  "language_info": {
   "codemirror_mode": {
    "name": "ipython",
    "version": 3
   },
   "file_extension": ".py",
   "mimetype": "text/x-python",
   "name": "python",
   "nbconvert_exporter": "python",
   "pygments_lexer": "ipython3",
   "version": "3.9.7"
  }
 },
 "nbformat": 4,
 "nbformat_minor": 5
}
